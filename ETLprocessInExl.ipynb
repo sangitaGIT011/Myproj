{
  "nbformat": 4,
  "nbformat_minor": 0,
  "metadata": {
    "colab": {
      "provenance": [],
      "authorship_tag": "ABX9TyOFx5Big9y9UKnlQhnAuKoX",
      "include_colab_link": true
    },
    "kernelspec": {
      "name": "python3",
      "display_name": "Python 3"
    },
    "language_info": {
      "name": "python"
    }
  },
  "cells": [
    {
      "cell_type": "markdown",
      "metadata": {
        "id": "view-in-github",
        "colab_type": "text"
      },
      "source": [
        "<a href=\"https://colab.research.google.com/github/sangitaGIT011/Myproj/blob/main/ETLprocessInExl.ipynb\" target=\"_parent\"><img src=\"https://colab.research.google.com/assets/colab-badge.svg\" alt=\"Open In Colab\"/></a>"
      ]
    },
    {
      "cell_type": "code",
      "source": [
        "#!pip install xlsxwriter\n",
        "import os\n",
        "import requests\n",
        "import pandas as pd\n",
        "from sqlalchemy import create_engine  # (not used in this example, but kept if needed later)\n",
        "\n",
        "# Extract Data from URL\n",
        "\n",
        "def extract() -> dict:\n",
        "\n",
        "    url = 'http://universities.hipolabs.com/search?country=India'\n",
        "    data = requests.get(url).json()\n",
        "    return data\n",
        "\n",
        "# Transform Data\n",
        "\n",
        "def transform(data: dict) -> pd.DataFrame:\n",
        "    df = pd.DataFrame(data)\n",
        "\n",
        "    print(f\"Total number of universities from API: {len(df)}\")\n",
        "\n",
        "    # Filter universities that have \"Gujarat\" in their name (case-insensitive)\n",
        "    df = df[df[\"name\"].str.contains(\"Gujarat\", case=False, na=False)]\n",
        "\n",
        "    print(f\"Total number of universities in Gujarat: {len(df)}\")\n",
        "\n",
        "    # Convert list columns to comma-separated strings\n",
        "    df[\"domains\"] = [','.join(map(str, l)) for l in df[\"domains\"]]\n",
        "    df[\"web_pages\"] = [','.join(map(str, l)) for l in df[\"web_pages\"]]\n",
        "\n",
        "    df = df.reset_index(drop=True)\n",
        "\n",
        "    return df[[\"name\", \"domains\", \"web_pages\", \"state-province\"]]\n",
        "\n",
        "# Load data into Excel with formatting\n",
        "\n",
        "\n",
        "def load(df: pd.DataFrame, filename: str = \"gujarat_universities.xlsx\") -> None:\n",
        "    with pd.ExcelWriter(filename, engine='xlsxwriter') as writer:\n",
        "        df.to_excel(writer, index=False, sheet_name='Gujarat Universities')\n",
        "\n",
        "        workbook = writer.book\n",
        "        worksheet = writer.sheets['Gujarat Universities']\n",
        "\n",
        "        # Set column widths for better readability\n",
        "        worksheet.set_column('A:A', 40)  # name\n",
        "        worksheet.set_column('B:B', 25)  # domains\n",
        "        worksheet.set_column('C:C', 50)  # web_pages\n",
        "        worksheet.set_column('D:D', 20)  # state-province\n",
        "\n",
        "        print(f\"Data successfully written to {filename}\")\n",
        "\n",
        "# Main ETL pipeline execution\n",
        "if __name__ == \"__main__\":\n",
        "    raw_data = extract()\n",
        "    transformed_df = transform(raw_data)\n",
        "    load(transformed_df)\n",
        "\n",
        "    # Show full path of saved Excel file\n",
        "    filename = \"gujarat_universities.xlsx\"\n",
        "    filepath = os.path.abspath(filename)\n",
        "    print(f\"Full path of the Excel file: {filepath}\")\n",
        "\n",
        "    # Read the Excel file and display in console with improved formatting\n",
        "    df = pd.read_excel(filename)\n",
        "\n",
        "    # Better console display: no truncation and wider display width\n",
        "    with pd.option_context('display.max_colwidth', None, 'display.width', 200):\n",
        "        print(df.head())\n"
      ],
      "metadata": {
        "colab": {
          "base_uri": "https://localhost:8080/"
        },
        "id": "tz_wxZwjL2HF",
        "outputId": "4cf23334-0855-4b58-a30a-872342916243"
      },
      "execution_count": 82,
      "outputs": [
        {
          "output_type": "stream",
          "name": "stdout",
          "text": [
            "Total number of universities from API: 473\n",
            "Total number of universities in Gujarat: 5\n",
            "Data successfully written to gujarat_universities.xlsx\n",
            "Full path of the Excel file: /content/gujarat_universities.xlsx\n",
            "                                         name                   domains                             web_pages state-province\n",
            "0                  Gujarat Ayurved University     ayurveduniversity.com     http://www.ayurveduniversity.com/        Gujarat\n",
            "1  Gujarat Technological University Ahmedabad                 gtu.ac.in                 http://www.gtu.ac.in/        Gujarat\n",
            "2                Gujarat University Ahmedabad  gujaratuniversity.org.in  http://www.gujaratuniversity.org.in/        Gujarat\n",
            "3   Hemchandracharay North Gujarat University                 ngu.ac.in                 http://www.ngu.ac.in/        Gujarat\n",
            "4                    South Gujarat University              sgu.ernet.in              http://www.sgu.ernet.in/            NaN\n"
          ]
        }
      ]
    }
  ]
}