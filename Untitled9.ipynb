{
  "nbformat": 4,
  "nbformat_minor": 0,
  "metadata": {
    "colab": {
      "provenance": [],
      "authorship_tag": "ABX9TyMm9PvhLnRl9gpIAE7dgL9v",
      "include_colab_link": true
    },
    "kernelspec": {
      "name": "python3",
      "display_name": "Python 3"
    },
    "language_info": {
      "name": "python"
    }
  },
  "cells": [
    {
      "cell_type": "markdown",
      "metadata": {
        "id": "view-in-github",
        "colab_type": "text"
      },
      "source": [
        "<a href=\"https://colab.research.google.com/github/sangitaGIT011/Myproj/blob/main/Untitled9.ipynb\" target=\"_parent\"><img src=\"https://colab.research.google.com/assets/colab-badge.svg\" alt=\"Open In Colab\"/></a>"
      ]
    },
    {
      "cell_type": "code",
      "execution_count": null,
      "metadata": {
        "id": "qxoX_2M2UPSA"
      },
      "outputs": [],
      "source": [
        "import pandas as pd\n",
        "from sklearn.impute import SimpleImputer\n",
        "from sklearn.preprocessing import MinMaxScaler\n",
        "\n",
        "# Step 1: Load a sample dataset from the internet (Titanic dataset from GitHub)\n",
        "url = \"https://raw.githubusercontent.com/datasciencedojo/datasets/master/titanic.csv\"\n",
        "data = pd.read_csv(url)\n",
        "\n",
        "print(\"Original data sample:\")\n",
        "print(data.head())\n",
        "\n",
        "# Step 2: Handle missing values - fill missing Age values with the average age\n",
        "imputer = SimpleImputer(strategy='mean')  # strategy='mean' fills with average value\n",
        "data['Age'] = imputer.fit_transform(data[['Age']])\n",
        "\n",
        "# Step 3: Normalize the 'Fare' column (scale values between 0 and 1)\n",
        "scaler = MinMaxScaler()\n",
        "data['Fare'] = scaler.fit_transform(data[['Fare']])\n",
        "\n",
        "print(\"\\nCleaned data sample:\")\n",
        "print(data[['Age', 'Fare']].head())\n"
      ]
    }
  ]
}