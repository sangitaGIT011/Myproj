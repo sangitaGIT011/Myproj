{
  "cells": [
    {
      "cell_type": "code",
      "source": [
        "# Step 1: Import required libraries\n",
        "import pandas as pd\n",
        "import seaborn as sns\n",
        "from sklearn.model_selection import train_test_split\n",
        "from sklearn.linear_model import LogisticRegression\n",
        "from sklearn.preprocessing import LabelEncoder, MinMaxScaler\n",
        "from sklearn.metrics import accuracy_score\n",
        "\n",
        "# Step 2: Load the Titanic dataset\n",
        "df = sns.load_dataset('titanic')\n",
        "\n",
        "# Step 3: Drop unnecessary or mostly-empty columns\n",
        "df = df.drop(columns=['deck', 'embark_town', 'alive'])\n",
        "\n",
        "# Step 4: Handle missing values\n",
        "df['age'] = df['age'].fillna(df['age'].mean())   # ✅ Fix: no inplace=True\n",
        "df = df.dropna(subset=['embarked'])              # Drop rows where 'embarked' is missing\n",
        "df = df.dropna()                                 # Drop any remaining missing data\n",
        "\n",
        "# Step 5: Convert categorical columns to numeric using LabelEncoder\n",
        "label_encoder = LabelEncoder()\n",
        "for col in df.columns:\n",
        "    if df[col].dtype == 'object' or str(df[col].dtype) == 'category':\n",
        "        df[col] = label_encoder.fit_transform(df[col].astype(str))  # ✅ Fix: convert to str\n",
        "\n",
        "# Step 6: Normalize numerical columns using MinMaxScaler\n",
        "scaler = MinMaxScaler()\n",
        "numeric_cols = df.select_dtypes(include=['int64', 'float64']).columns\n",
        "df[numeric_cols] = scaler.fit_transform(df[numeric_cols])\n",
        "\n",
        "# Step 7: Split the data into features (X) and target (y)\n",
        "X = df.drop('survived', axis=1)  # Features\n",
        "y = df['survived']               # Target\n",
        "\n",
        "# Step 8: Train-test split\n",
        "X_train, X_test, y_train, y_test = train_test_split(X, y, test_size=0.2, random_state=42)\n",
        "\n",
        "# Step 9: Train a Logistic Regression model\n",
        "model = LogisticRegression()\n",
        "model.fit(X_train, y_train)\n",
        "\n",
        "# Step 10: Predict and evaluate the model\n",
        "y_pred = model.predict(X_test)\n",
        "accuracy = accuracy_score(y_test, y_pred)\n",
        "\n",
        "print(\"\\n✅ Model Accuracy: {:.2f}%\".format(accuracy * 100))\n"
      ],
      "metadata": {
        "colab": {
          "base_uri": "https://localhost:8080/"
        },
        "id": "LqRX3_TsX6g4",
        "outputId": "7c346f20-13b6-4f4f-beac-b883062f381e"
      },
      "execution_count": 1,
      "outputs": [
        {
          "output_type": "stream",
          "name": "stdout",
          "text": [
            "\n",
            "✅ Model Accuracy: 80.34%\n"
          ]
        }
      ]
    }
  ],
  "metadata": {
    "colab": {
      "name": "beginner.ipynb",
      "toc_visible": true,
      "provenance": []
    },
    "kernelspec": {
      "display_name": "Python 3",
      "name": "python3"
    }
  },
  "nbformat": 4,
  "nbformat_minor": 0
}